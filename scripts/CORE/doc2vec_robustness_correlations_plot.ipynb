{
 "cells": [
  {
   "cell_type": "markdown",
   "metadata": {},
   "source": [
    "Compare two different embeddings from the doc2vec by sampling a subset of pairs and calculating the respective distances.\n",
    "We then calculate the rank-correlation between the two different lists of measured distances.\n",
    "\n",
    "This quantifies how much two different embeddings correspond to each other\n",
    "\n",
    "- we do not care about the absolute value of the distance\n",
    "- but is the relation between the distances conserved across different models"
   ]
  },
  {
   "cell_type": "code",
   "execution_count": 26,
   "metadata": {
    "collapsed": false
   },
   "outputs": [
    {
     "name": "stdout",
     "output_type": "stream",
     "text": [
      "The autoreload extension is already loaded. To reload it, use:\n",
      "  %reload_ext autoreload\n"
     ]
    }
   ],
   "source": [
    "import numpy as np\n",
    "import pylab as plt\n",
    "import os,sys\n",
    "import pandas as pd\n",
    "import glob\n",
    "from scipy.stats import pearsonr, spearmanr\n",
    "from scipy.spatial.distance import pdist,cdist\n",
    "from matplotlib.ticker import NullFormatter\n",
    "\n",
    "# %matplotlib inline  \n",
    "%load_ext autoreload\n",
    "%autoreload 2\n",
    "\n",
    "## add src-path\n",
    "src_dir = os.path.abspath(os.path.join(os.pardir,os.pardir,'src'))\n",
    "sys.path[0] = src_dir\n",
    "\n",
    "from common.stats import *\n",
    "from scipy.stats import kendalltau,spearmanr"
   ]
  },
  {
   "cell_type": "code",
   "execution_count": 38,
   "metadata": {
    "collapsed": false
   },
   "outputs": [],
   "source": [
    "\n",
    "dict_model_fname = {\n",
    "    '50-5-5-0': 'doc_features_normed_50-5-5-0.npy',\\\n",
    "    '100-5-5-0': 'doc_features_normed.npy',\\\n",
    "    '200-5-5-0': 'doc_features_normed_200-5-5-0.npy',\\\n",
    "}\n",
    "\n",
    "# dict_model_fname = {\n",
    "#     '50-5-5-0': 'doc_features_normed_50-5-5-0.npy',\\\n",
    "#     '50-5-5-0.00005' : 'doc_features_normed_50-5-5.npy',\\\n",
    "# }\n"
   ]
  },
  {
   "cell_type": "code",
   "execution_count": 39,
   "metadata": {
    "collapsed": true
   },
   "outputs": [],
   "source": [
    "\n",
    "\n",
    "path_read = '../../results/doc2vec_robustness'\n",
    "path_save = '../../results/doc2vec_robustness'\n",
    "\n",
    "## parameters\n",
    "N_pairs = 10**3 # howmany pairs to compare\n",
    "# n_seed = 10\n",
    "metric = 'cosine' # which metric to use, default: cosine"
   ]
  },
  {
   "cell_type": "code",
   "execution_count": 40,
   "metadata": {
    "collapsed": false
   },
   "outputs": [
    {
     "name": "stdout",
     "output_type": "stream",
     "text": [
      "['100-5-5-0', '200-5-5-0', '50-5-5-0']\n"
     ]
    }
   ],
   "source": [
    "list_models = sorted(list(dict_model_fname.keys()))\n",
    "print(list_models)\n",
    "\n",
    "for i_m1,model1 in enumerate(list_models):\n",
    "    for i_m2,model2 in enumerate(list_models):\n",
    "        if i_m1<i_m2:\n",
    "            make_plot_doc2vec_comparison_correlations(model1,model2,N_pairs,metric,path_read,path_save,\\\n",
    "                    alpha=0.5,binwidth=0.01)\n",
    "\n",
    "\n"
   ]
  },
  {
   "cell_type": "code",
   "execution_count": null,
   "metadata": {
    "collapsed": false
   },
   "outputs": [],
   "source": [
    "\n"
   ]
  },
  {
   "cell_type": "code",
   "execution_count": null,
   "metadata": {
    "collapsed": false
   },
   "outputs": [],
   "source": [
    "\n",
    "\n"
   ]
  },
  {
   "cell_type": "markdown",
   "metadata": {
    "collapsed": true
   },
   "source": [
    "# Plot"
   ]
  },
  {
   "cell_type": "markdown",
   "metadata": {
    "collapsed": true
   },
   "source": [
    "example from here https://matplotlib.org/examples/pylab_examples/scatter_hist.html"
   ]
  },
  {
   "cell_type": "code",
   "execution_count": null,
   "metadata": {
    "collapsed": true
   },
   "outputs": [],
   "source": []
  },
  {
   "cell_type": "code",
   "execution_count": 36,
   "metadata": {
    "collapsed": true
   },
   "outputs": [],
   "source": [
    "def make_plot_doc2vec_comparison_correlations(model1,model2,N_pairs,metric,path_read,path_save,\\\n",
    "                                              alpha=0.1,binwidth=0.01):\n",
    "    \n",
    "    ## read data\n",
    "    fname_read = 'doc2vec_m%s_m%s_comparison_distances_%s_N%s'\\\n",
    "                %(model1,model2,metric,str(N_pairs))\n",
    "    filename = os.path.join(path_read,fname_read)\n",
    "    with open(filename,'r') as f:\n",
    "        x=f.readlines()\n",
    "    \n",
    "    \n",
    "    list_dist_x1 = [float(h.split()[0]) for h in x]\n",
    "    list_dist_x2 = [float(h.split()[1]) for h in x]\n",
    "    C_k = kendalltau(list_dist_x1,list_dist_x2)\n",
    "    C_s = spearmanr(list_dist_x1,list_dist_x2)\n",
    "    \n",
    "    ## prepare plot\n",
    "    nullfmt = NullFormatter()         # no labels\n",
    "    # definitions for the axes\n",
    "    left, width = 0.1, 0.65\n",
    "    bottom, height = 0.1, 0.65\n",
    "    bottom_h = left_h = left + width + 0.02\n",
    "\n",
    "    rect_scatter = [left, bottom, width, height]\n",
    "    rect_histx = [left, bottom_h, width, 0.2]\n",
    "    rect_histy = [left_h, bottom, 0.2, height]\n",
    "    x = list_dist_x1\n",
    "    y = list_dist_x2\n",
    "    \n",
    "    ## make plot\n",
    "    N_ = len(list_dist_x1)\n",
    "    plt.figure(1, figsize=(8, 8))\n",
    "    plt.clf()\n",
    "    axScatter = plt.axes(rect_scatter)\n",
    "    axHistx = plt.axes(rect_histx)\n",
    "    axHisty = plt.axes(rect_histy)\n",
    "\n",
    "    # no labels\n",
    "    axHistx.xaxis.set_major_formatter(nullfmt)\n",
    "    axHisty.yaxis.set_major_formatter(nullfmt)\n",
    "\n",
    "    # now determine nice limits by hand:\n",
    "    xymax = np.max([np.max(np.fabs(x)), np.max(np.fabs(y))])\n",
    "    lim = (int(xymax/binwidth) + 1) * binwidth\n",
    "\n",
    "    axScatter.set_xlim((0, lim))\n",
    "    axScatter.set_ylim((0, lim))\n",
    "\n",
    "    # the scatter plot:\n",
    "    axScatter.plot(x, y,alpha=alpha,ms=1,marker='o',lw=0,rasterized=True)\n",
    "\n",
    "\n",
    "    arr_bins = np.linspace(0,lim,100)\n",
    "    x_med,y_med,y_err = cond_median(list_dist_x1,list_dist_x2,arr_bins,y_perc = [2.5,97.5])\n",
    "    axScatter.errorbar(x_med,y_med,yerr=y_err)\n",
    "    axScatter.plot([0,lim],[0,lim],ls=':',color='black')\n",
    "    # ax.set_xlabel('cosine - dataset1')\n",
    "    # ax.set_ylabel('cosine - dataset2')\n",
    "\n",
    "\n",
    "\n",
    "    bins = np.arange(-lim, lim + binwidth, binwidth)\n",
    "    axHistx.hist(x, bins=bins)\n",
    "    axHisty.hist(y, bins=bins, orientation='horizontal')\n",
    "\n",
    "    axHistx.set_xlim(axScatter.get_xlim())\n",
    "    axHisty.set_ylim(axScatter.get_ylim())\n",
    "\n",
    "    axScatter.set_xlabel('model: %s'%(model1))\n",
    "    axScatter.set_ylabel('model: %s'%(model2))\n",
    "    plt.figtext(0.775,0.95,'Rank-Correlation:')\n",
    "    plt.figtext(0.775,0.9,r'Spearman-$\\rho = %.2f$'%(C_s[0]))\n",
    "    plt.figtext(0.775,0.85,r'Kendell-$\\tau = %.2f$'%(C_k[0]))\n",
    "    plt.figtext(0.775,0.775,r'$N = %d$'%(N_pairs))\n",
    "\n",
    "    filename = 'doc2vec_m%s_m%s_comparison_distances_%s_N%d.png'%(model1,model2,metric,N_pairs)\n",
    "    plt.savefig(os.path.join(path_save,filename),dpi=300)"
   ]
  },
  {
   "cell_type": "code",
   "execution_count": null,
   "metadata": {
    "collapsed": false
   },
   "outputs": [],
   "source": []
  },
  {
   "cell_type": "code",
   "execution_count": null,
   "metadata": {
    "collapsed": true
   },
   "outputs": [],
   "source": []
  }
 ],
 "metadata": {
  "anaconda-cloud": {},
  "kernelspec": {
   "display_name": "Python 3",
   "language": "python",
   "name": "python3"
  },
  "language_info": {
   "codemirror_mode": {
    "name": "ipython",
    "version": 3
   },
   "file_extension": ".py",
   "mimetype": "text/x-python",
   "name": "python",
   "nbconvert_exporter": "python",
   "pygments_lexer": "ipython3",
   "version": "3.5.0"
  }
 },
 "nbformat": 4,
 "nbformat_minor": 1
}
