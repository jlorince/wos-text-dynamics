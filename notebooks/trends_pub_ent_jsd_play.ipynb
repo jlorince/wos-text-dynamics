{
 "cells": [
  {
   "cell_type": "code",
   "execution_count": 5,
   "metadata": {
    "collapsed": false
   },
   "outputs": [
    {
     "name": "stdout",
     "output_type": "stream",
     "text": [
      "The autoreload extension is already loaded. To reload it, use:\n",
      "  %reload_ext autoreload\n"
     ]
    }
   ],
   "source": [
    "import numpy as np\n",
    "import pylab as plt\n",
    "import pickle\n",
    "import os,sys\n",
    "# import pandas as pd\n",
    "from collections import Counter\n",
    "import glob\n",
    "import pandas as pd\n",
    "%matplotlib inline  \n",
    "%load_ext autoreload\n",
    "%autoreload 2"
   ]
  },
  {
   "cell_type": "code",
   "execution_count": 14,
   "metadata": {
    "collapsed": true
   },
   "outputs": [],
   "source": [
    "pd.set_option('display.max_rows', 10)"
   ]
  },
  {
   "cell_type": "markdown",
   "metadata": {},
   "source": [
    "# Read the dataframe"
   ]
  },
  {
   "cell_type": "code",
   "execution_count": 15,
   "metadata": {
    "collapsed": false
   },
   "outputs": [
    {
     "name": "stdout",
     "output_type": "stream",
     "text": [
      "/DRIVE/REPOS/wos-text-dynamics/results\n"
     ]
    }
   ],
   "source": [
    "path_data = os.path.abspath(os.path.join(os.pardir,'results'))\n",
    "print(path_data)"
   ]
  },
  {
   "cell_type": "code",
   "execution_count": 16,
   "metadata": {
    "collapsed": false
   },
   "outputs": [],
   "source": [
    "fname_data = 'results_combined_v100-n220-t46.tsv'"
   ]
  },
  {
   "cell_type": "code",
   "execution_count": 17,
   "metadata": {
    "collapsed": false
   },
   "outputs": [],
   "source": [
    "df = pd.read_table(os.path.join(path_data,fname_data),index_col=0)"
   ]
  },
  {
   "cell_type": "code",
   "execution_count": 18,
   "metadata": {
    "collapsed": false
   },
   "outputs": [
    {
     "data": {
      "text/html": [
       "<div>\n",
       "<table border=\"1\" class=\"dataframe\">\n",
       "  <thead>\n",
       "    <tr style=\"text-align: right;\">\n",
       "      <th></th>\n",
       "      <th>ent</th>\n",
       "      <th>jsd</th>\n",
       "      <th>year</th>\n",
       "      <th>cat</th>\n",
       "      <th>citations</th>\n",
       "      <th>pubs</th>\n",
       "      <th>insularity_out</th>\n",
       "      <th>insularity_in</th>\n",
       "      <th>cHin</th>\n",
       "      <th>cHout</th>\n",
       "    </tr>\n",
       "  </thead>\n",
       "  <tbody>\n",
       "    <tr>\n",
       "      <th>0</th>\n",
       "      <td>11.218350</td>\n",
       "      <td>NaN</td>\n",
       "      <td>1991</td>\n",
       "      <td>Environmental Sciences</td>\n",
       "      <td>0.003872</td>\n",
       "      <td>0.011310</td>\n",
       "      <td>0.203408</td>\n",
       "      <td>0.269749</td>\n",
       "      <td>3.383197</td>\n",
       "      <td>3.639216</td>\n",
       "    </tr>\n",
       "    <tr>\n",
       "      <th>1</th>\n",
       "      <td>11.206128</td>\n",
       "      <td>0.341673</td>\n",
       "      <td>1992</td>\n",
       "      <td>Environmental Sciences</td>\n",
       "      <td>0.003886</td>\n",
       "      <td>0.011906</td>\n",
       "      <td>0.203292</td>\n",
       "      <td>0.270229</td>\n",
       "      <td>3.397948</td>\n",
       "      <td>3.648734</td>\n",
       "    </tr>\n",
       "    <tr>\n",
       "      <th>2</th>\n",
       "      <td>11.209673</td>\n",
       "      <td>0.340000</td>\n",
       "      <td>1993</td>\n",
       "      <td>Environmental Sciences</td>\n",
       "      <td>0.003975</td>\n",
       "      <td>0.012103</td>\n",
       "      <td>0.186027</td>\n",
       "      <td>0.257501</td>\n",
       "      <td>3.432132</td>\n",
       "      <td>3.734057</td>\n",
       "    </tr>\n",
       "    <tr>\n",
       "      <th>3</th>\n",
       "      <td>11.208089</td>\n",
       "      <td>0.341503</td>\n",
       "      <td>1994</td>\n",
       "      <td>Environmental Sciences</td>\n",
       "      <td>0.004364</td>\n",
       "      <td>0.012897</td>\n",
       "      <td>0.195790</td>\n",
       "      <td>0.269853</td>\n",
       "      <td>3.413343</td>\n",
       "      <td>3.705705</td>\n",
       "    </tr>\n",
       "    <tr>\n",
       "      <th>4</th>\n",
       "      <td>11.197011</td>\n",
       "      <td>0.342457</td>\n",
       "      <td>1995</td>\n",
       "      <td>Environmental Sciences</td>\n",
       "      <td>0.004761</td>\n",
       "      <td>0.013364</td>\n",
       "      <td>0.193285</td>\n",
       "      <td>0.259873</td>\n",
       "      <td>3.439472</td>\n",
       "      <td>3.676835</td>\n",
       "    </tr>\n",
       "    <tr>\n",
       "      <th>...</th>\n",
       "      <td>...</td>\n",
       "      <td>...</td>\n",
       "      <td>...</td>\n",
       "      <td>...</td>\n",
       "      <td>...</td>\n",
       "      <td>...</td>\n",
       "      <td>...</td>\n",
       "      <td>...</td>\n",
       "      <td>...</td>\n",
       "      <td>...</td>\n",
       "    </tr>\n",
       "    <tr>\n",
       "      <th>20</th>\n",
       "      <td>10.811720</td>\n",
       "      <td>0.281133</td>\n",
       "      <td>2011</td>\n",
       "      <td>Neuroimaging</td>\n",
       "      <td>0.000840</td>\n",
       "      <td>0.001337</td>\n",
       "      <td>0.062244</td>\n",
       "      <td>0.065735</td>\n",
       "      <td>2.995366</td>\n",
       "      <td>2.902713</td>\n",
       "    </tr>\n",
       "    <tr>\n",
       "      <th>21</th>\n",
       "      <td>10.813734</td>\n",
       "      <td>0.282015</td>\n",
       "      <td>2012</td>\n",
       "      <td>Neuroimaging</td>\n",
       "      <td>0.000897</td>\n",
       "      <td>0.001411</td>\n",
       "      <td>0.062979</td>\n",
       "      <td>0.072307</td>\n",
       "      <td>3.039712</td>\n",
       "      <td>2.861704</td>\n",
       "    </tr>\n",
       "    <tr>\n",
       "      <th>22</th>\n",
       "      <td>10.808784</td>\n",
       "      <td>0.281990</td>\n",
       "      <td>2013</td>\n",
       "      <td>Neuroimaging</td>\n",
       "      <td>0.000934</td>\n",
       "      <td>0.001358</td>\n",
       "      <td>0.063636</td>\n",
       "      <td>0.071007</td>\n",
       "      <td>3.035846</td>\n",
       "      <td>2.895661</td>\n",
       "    </tr>\n",
       "    <tr>\n",
       "      <th>23</th>\n",
       "      <td>10.803446</td>\n",
       "      <td>0.279587</td>\n",
       "      <td>2014</td>\n",
       "      <td>Neuroimaging</td>\n",
       "      <td>0.000958</td>\n",
       "      <td>0.001483</td>\n",
       "      <td>0.066557</td>\n",
       "      <td>0.080132</td>\n",
       "      <td>3.036975</td>\n",
       "      <td>2.877446</td>\n",
       "    </tr>\n",
       "    <tr>\n",
       "      <th>24</th>\n",
       "      <td>10.831816</td>\n",
       "      <td>0.281252</td>\n",
       "      <td>2015</td>\n",
       "      <td>Neuroimaging</td>\n",
       "      <td>0.000942</td>\n",
       "      <td>0.001399</td>\n",
       "      <td>0.066289</td>\n",
       "      <td>0.060895</td>\n",
       "      <td>3.074298</td>\n",
       "      <td>2.919218</td>\n",
       "    </tr>\n",
       "  </tbody>\n",
       "</table>\n",
       "<p>6275 rows × 10 columns</p>\n",
       "</div>"
      ],
      "text/plain": [
       "          ent       jsd  year                     cat  citations      pubs  \\\n",
       "0   11.218350       NaN  1991  Environmental Sciences   0.003872  0.011310   \n",
       "1   11.206128  0.341673  1992  Environmental Sciences   0.003886  0.011906   \n",
       "2   11.209673  0.340000  1993  Environmental Sciences   0.003975  0.012103   \n",
       "3   11.208089  0.341503  1994  Environmental Sciences   0.004364  0.012897   \n",
       "4   11.197011  0.342457  1995  Environmental Sciences   0.004761  0.013364   \n",
       "..        ...       ...   ...                     ...        ...       ...   \n",
       "20  10.811720  0.281133  2011            Neuroimaging   0.000840  0.001337   \n",
       "21  10.813734  0.282015  2012            Neuroimaging   0.000897  0.001411   \n",
       "22  10.808784  0.281990  2013            Neuroimaging   0.000934  0.001358   \n",
       "23  10.803446  0.279587  2014            Neuroimaging   0.000958  0.001483   \n",
       "24  10.831816  0.281252  2015            Neuroimaging   0.000942  0.001399   \n",
       "\n",
       "    insularity_out  insularity_in      cHin     cHout  \n",
       "0         0.203408       0.269749  3.383197  3.639216  \n",
       "1         0.203292       0.270229  3.397948  3.648734  \n",
       "2         0.186027       0.257501  3.432132  3.734057  \n",
       "3         0.195790       0.269853  3.413343  3.705705  \n",
       "4         0.193285       0.259873  3.439472  3.676835  \n",
       "..             ...            ...       ...       ...  \n",
       "20        0.062244       0.065735  2.995366  2.902713  \n",
       "21        0.062979       0.072307  3.039712  2.861704  \n",
       "22        0.063636       0.071007  3.035846  2.895661  \n",
       "23        0.066557       0.080132  3.036975  2.877446  \n",
       "24        0.066289       0.060895  3.074298  2.919218  \n",
       "\n",
       "[6275 rows x 10 columns]"
      ]
     },
     "execution_count": 18,
     "metadata": {},
     "output_type": "execute_result"
    }
   ],
   "source": [
    "df"
   ]
  },
  {
   "cell_type": "code",
   "execution_count": null,
   "metadata": {
    "collapsed": true
   },
   "outputs": [],
   "source": []
  },
  {
   "cell_type": "markdown",
   "metadata": {},
   "source": [
    "# Some analysis"
   ]
  },
  {
   "cell_type": "code",
   "execution_count": 23,
   "metadata": {
    "collapsed": false
   },
   "outputs": [],
   "source": [
    "## all fields \n",
    "fields = list(set(df.cat.values))"
   ]
  },
  {
   "cell_type": "code",
   "execution_count": 25,
   "metadata": {
    "collapsed": false
   },
   "outputs": [
    {
     "data": {
      "text/plain": [
       "['Engineering, Mechanical',\n",
       " 'Emergency Medicine',\n",
       " 'Literary Theory & Criticism',\n",
       " 'Optics',\n",
       " 'Economics',\n",
       " 'Biochemical Research Methods',\n",
       " 'Biodiversity Conservation',\n",
       " 'Business, Finance',\n",
       " 'Toxicology',\n",
       " 'Mathematics, Applied',\n",
       " 'Geosciences, Multidisciplinary',\n",
       " 'Social Issues',\n",
       " 'Oncology',\n",
       " 'Literature, German, Dutch, Scandinavian',\n",
       " 'Mathematical & Computational Biology',\n",
       " 'Chemistry, Applied',\n",
       " 'Peripheral Vascular Disease',\n",
       " 'Materials Science, Biomaterials',\n",
       " 'Agricultural Engineering',\n",
       " 'Plant Sciences',\n",
       " 'Marine & Freshwater Biology',\n",
       " 'Engineering, Biomedical',\n",
       " 'Meteorology & Atmospheric Sciences',\n",
       " 'Physics, Mathematical',\n",
       " 'Mining & Mineral Processing',\n",
       " 'Medical Laboratory Technology',\n",
       " 'Behavioral Sciences',\n",
       " 'Automation & Control Systems',\n",
       " 'Nuclear Science & Technology',\n",
       " 'Computer Science, Hardware & Architecture',\n",
       " 'Respiratory System',\n",
       " 'Business',\n",
       " 'Operations Research & Management Science',\n",
       " 'Cell Biology',\n",
       " 'Entomology',\n",
       " 'Music',\n",
       " 'Neurosciences',\n",
       " 'Anthropology',\n",
       " 'Ergonomics',\n",
       " 'Logic',\n",
       " 'Veterinary Sciences',\n",
       " 'Mathematics',\n",
       " 'Ethics',\n",
       " 'Physics, Particles & Fields',\n",
       " 'Cardiac & Cardiovascular Systems',\n",
       " 'Literature, African, Australian, Canadian',\n",
       " 'Pediatrics',\n",
       " 'Ophthalmology',\n",
       " 'Physics, Condensed Matter',\n",
       " 'Computer Science, Software Engineering',\n",
       " 'Materials Science, Coatings & Films',\n",
       " 'Engineering, Chemical',\n",
       " 'Health Policy & Services',\n",
       " 'Engineering, Environmental',\n",
       " 'Horticulture',\n",
       " 'Literary Reviews',\n",
       " 'Asian Studies',\n",
       " 'Urology & Nephrology',\n",
       " 'Astronomy & Astrophysics',\n",
       " 'Rheumatology',\n",
       " 'Thermodynamics',\n",
       " 'Social Sciences, Interdisciplinary',\n",
       " 'Nanoscience & Nanotechnology',\n",
       " 'Engineering, Industrial',\n",
       " 'Ecology',\n",
       " 'History & Philosophy Of Science',\n",
       " 'Engineering, Civil',\n",
       " 'Information Science & Library Science',\n",
       " 'Hospitality, Leisure, Sport & Tourism',\n",
       " 'Evolutionary Biology',\n",
       " 'Computer Science, Cybernetics',\n",
       " 'Humanities, Multidisciplinary',\n",
       " 'Critical Care Medicine',\n",
       " 'Developmental Biology',\n",
       " 'Linguistics',\n",
       " 'Ethnic Studies',\n",
       " 'Chemistry, Inorganic & Nuclear',\n",
       " 'History',\n",
       " 'Education, Special',\n",
       " 'Endocrinology & Metabolism',\n",
       " 'Social Work',\n",
       " 'Computer Science, Artificial Intelligence',\n",
       " 'Cultural Studies',\n",
       " 'Biotechnology & Applied Microbiology',\n",
       " 'Genetics & Heredity',\n",
       " 'Crystallography',\n",
       " 'Law',\n",
       " 'Communication',\n",
       " 'Forestry',\n",
       " 'Literature, British Isles',\n",
       " 'International Relations',\n",
       " 'Physics, Nuclear',\n",
       " 'Infectious Diseases',\n",
       " 'Allergy',\n",
       " 'Biophysics',\n",
       " 'Statistics & Probability',\n",
       " 'Engineering, Multidisciplinary',\n",
       " 'Anatomy & Morphology',\n",
       " 'Dance',\n",
       " 'Psychology, Psychoanalysis',\n",
       " 'Pathology',\n",
       " 'Energy & Fuels',\n",
       " 'Biology',\n",
       " 'Limnology',\n",
       " 'Public Administration',\n",
       " 'Medicine, Legal',\n",
       " 'Chemistry, Analytical',\n",
       " 'Hematology',\n",
       " 'Criminology & Penology',\n",
       " 'Rehabilitation',\n",
       " 'Demography',\n",
       " 'Language & Linguistics',\n",
       " 'Social Sciences, Mathematical Methods',\n",
       " 'Engineering, Ocean',\n",
       " 'Obstetrics & Gynecology',\n",
       " \"Women's Studies\",\n",
       " 'Anesthesiology',\n",
       " 'Nursing',\n",
       " 'Surgery',\n",
       " 'Environmental Studies',\n",
       " 'Orthopedics',\n",
       " 'Soil Science',\n",
       " 'Psychiatry',\n",
       " 'Public, Environmental & Occupational Health',\n",
       " 'Engineering, Manufacturing',\n",
       " 'Pharmacology & Pharmacy',\n",
       " 'Parasitology',\n",
       " 'Virology',\n",
       " 'Computer Science, Theory & Methods',\n",
       " 'Imaging Science & Photographic Technology',\n",
       " 'Geography, Physical',\n",
       " 'Folklore',\n",
       " 'Psychology, Experimental',\n",
       " 'Physics, Fluids & Plasmas',\n",
       " 'Engineering, Aerospace',\n",
       " 'Psychology, Educational',\n",
       " 'Materials Science, Multidisciplinary',\n",
       " 'Microbiology',\n",
       " 'Polymer Science',\n",
       " 'Agriculture, Multidisciplinary',\n",
       " 'Medical Informatics',\n",
       " 'Management',\n",
       " 'Sport Sciences',\n",
       " 'Classics',\n",
       " 'Agricultural Economics & Policy',\n",
       " 'Literature, Romance',\n",
       " 'Instruments & Instrumentation',\n",
       " 'Psychology, Developmental',\n",
       " 'Electrochemistry',\n",
       " 'Dentistry, Oral Surgery & Medicine',\n",
       " 'Physics, Multidisciplinary',\n",
       " 'Transportation Science & Technology',\n",
       " 'Construction & Building Technology',\n",
       " 'Medicine, Research & Experimental',\n",
       " 'Computer Science, Information Systems',\n",
       " 'Family Studies',\n",
       " 'Materials Science, Composites',\n",
       " 'Food Science & Technology',\n",
       " 'Health Care Sciences & Services',\n",
       " 'Psychology, Biological',\n",
       " 'Geriatrics & Gerontology',\n",
       " 'Water Resources',\n",
       " 'Telecommunications',\n",
       " 'Psychology, Clinical',\n",
       " 'Paleontology',\n",
       " 'Psychology, Mathematical',\n",
       " 'Multidisciplinary Sciences',\n",
       " 'Geochemistry & Geophysics',\n",
       " 'Materials Science, Textiles',\n",
       " 'Chemistry, Multidisciplinary',\n",
       " 'Film, Radio, Television',\n",
       " 'Radiology, Nuclear Medicine & Medical Imaging',\n",
       " 'Neuroimaging',\n",
       " 'Engineering, Petroleum',\n",
       " 'Tropical Medicine',\n",
       " 'Materials Science, Paper & Wood',\n",
       " 'Engineering, Marine',\n",
       " 'Mycology',\n",
       " 'Medical Ethics',\n",
       " 'Fisheries',\n",
       " 'Integrative & Complementary Medicine',\n",
       " 'Materials Science, Characterization & Testing',\n",
       " 'Mechanics',\n",
       " 'Mineralogy',\n",
       " 'Philosophy',\n",
       " 'Dermatology',\n",
       " 'Nutrition & Dietetics',\n",
       " 'Art',\n",
       " 'Microscopy',\n",
       " 'Engineering, Electrical & Electronic',\n",
       " 'Literature, American',\n",
       " 'Remote Sensing',\n",
       " 'Area Studies',\n",
       " 'Environmental Sciences',\n",
       " 'Religion',\n",
       " 'Geology',\n",
       " 'Biochemistry & Molecular Biology',\n",
       " 'Reproductive Biology',\n",
       " 'Psychology, Applied',\n",
       " 'Chemistry, Physical',\n",
       " 'Planning & Development',\n",
       " 'Medieval & Renaissance Studies',\n",
       " 'Urban Studies',\n",
       " 'Architecture',\n",
       " 'Computer Science, Interdisciplinary Applications',\n",
       " 'Robotics',\n",
       " 'Otorhinolaryngology',\n",
       " 'Audiology & Speech-Language Pathology',\n",
       " 'Sociology',\n",
       " 'Education & Educational Research',\n",
       " 'Zoology',\n",
       " 'Transportation',\n",
       " 'Physiology',\n",
       " 'Political Science',\n",
       " 'Gastroenterology & Hepatology',\n",
       " 'Ornithology',\n",
       " 'Oceanography',\n",
       " 'Medicine, General & Internal',\n",
       " 'Substance Abuse',\n",
       " 'Psychology',\n",
       " 'Cell & Tissue Engineering',\n",
       " 'History Of Social Sciences',\n",
       " 'Primary Health Care',\n",
       " 'Literature, Slavic',\n",
       " 'Industrial Relations & Labor',\n",
       " 'Literature',\n",
       " 'Social Sciences, Biomedical',\n",
       " 'Spectroscopy',\n",
       " 'Theater',\n",
       " 'Psychology, Multidisciplinary',\n",
       " 'Education, Scientific Disciplines',\n",
       " 'Psychology, Social',\n",
       " 'Agriculture, Dairy & Animal Science',\n",
       " 'Metallurgy & Metallurgical Engineering',\n",
       " 'Geography',\n",
       " 'Chemistry, Organic',\n",
       " 'Physics, Applied',\n",
       " 'Agronomy',\n",
       " 'Acoustics',\n",
       " 'Immunology',\n",
       " 'Andrology',\n",
       " 'Gerontology',\n",
       " 'Mathematics, Interdisciplinary Applications',\n",
       " 'Engineering, Geological',\n",
       " 'Chemistry, Medicinal',\n",
       " 'Materials Science, Ceramics',\n",
       " 'Archaeology',\n",
       " 'Poetry',\n",
       " 'Clinical Neurology',\n",
       " 'Transplantation',\n",
       " 'Physics, Atomic, Molecular & Chemical']"
      ]
     },
     "execution_count": 25,
     "metadata": {},
     "output_type": "execute_result"
    }
   ],
   "source": [
    "len(fields)\n",
    "fields"
   ]
  },
  {
   "cell_type": "code",
   "execution_count": 48,
   "metadata": {
    "collapsed": true
   },
   "outputs": [],
   "source": [
    "# list_fields_sel = ['Physics, Nuclear','Biophysics', 'Physics, Mathematical' ]\n",
    "list_fields_sel = ['Physics, Nuclear', 'Physics, Particles & Fields','Physics, Condensed Matter','Physics, Atomic, Molecular & Chemical' ]\n",
    "\n",
    "# 'Biophysics',\n",
    "# 'Physics, Particles & Fields'\n",
    "# 'Physics, Mathematical'\n",
    "# 'Physics, Atomic, Molecular & Chemical'\n",
    "# 'Physics, Condensed Matter'"
   ]
  },
  {
   "cell_type": "code",
   "execution_count": 49,
   "metadata": {
    "collapsed": false
   },
   "outputs": [
    {
     "data": {
      "text/plain": [
       "<matplotlib.legend.Legend at 0x7f21d2e31978>"
      ]
     },
     "execution_count": 49,
     "metadata": {},
     "output_type": "execute_result"
    },
    {
     "data": {
      "image/png": "[encoded data removed]",
      "text/plain": [
       "<matplotlib.figure.Figure at 0x7f21d2ec1208>"
      ]
     },
     "metadata": {},
     "output_type": "display_data"
    }
   ],
   "source": [
    "plt.figure(figsize=(16,4))\n",
    "\n",
    "for field in list_fields_sel: \n",
    "    df_sel = df[df['cat']==field][['ent','jsd','year','pubs']]\n",
    "    years = df_sel.year.values\n",
    "    ent = df_sel.ent.values\n",
    "    jsd = df_sel.jsd.values\n",
    "    pub = df_sel.pubs.values\n",
    "    \n",
    "    plt.subplot(131)\n",
    "    plt.title('pubs')\n",
    "    plt.plot(years,pub,label=field)\n",
    "    plt.subplot(132)\n",
    "    plt.title('entropy')\n",
    "    plt.plot(years,ent)\n",
    "    plt.subplot(133)\n",
    "    plt.title('jsd')\n",
    "    plt.plot(years,jsd)\n",
    "plt.subplot(131)\n",
    "plt.legend(loc='upper left')"
   ]
  },
  {
   "cell_type": "code",
   "execution_count": null,
   "metadata": {
    "collapsed": false
   },
   "outputs": [],
   "source": [
    "\n"
   ]
  },
  {
   "cell_type": "code",
   "execution_count": null,
   "metadata": {
    "collapsed": false
   },
   "outputs": [],
   "source": []
  },
  {
   "cell_type": "code",
   "execution_count": null,
   "metadata": {
    "collapsed": false
   },
   "outputs": [],
   "source": []
  },
  {
   "cell_type": "code",
   "execution_count": null,
   "metadata": {
    "collapsed": true
   },
   "outputs": [],
   "source": []
  }
 ],
 "metadata": {
  "anaconda-cloud": {},
  "kernelspec": {
   "display_name": "Python [conda root]",
   "language": "python",
   "name": "conda-root-py"
  },
  "language_info": {
   "codemirror_mode": {
    "name": "ipython",
    "version": 3
   },
   "file_extension": ".py",
   "mimetype": "text/x-python",
   "name": "python",
   "nbconvert_exporter": "python",
   "pygments_lexer": "ipython3",
   "version": "3.5.2"
  }
 },
 "nbformat": 4,
 "nbformat_minor": 1
}
