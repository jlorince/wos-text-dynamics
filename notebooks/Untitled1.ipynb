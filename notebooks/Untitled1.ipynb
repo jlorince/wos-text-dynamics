{
 "cells": [
  {
   "cell_type": "code",
   "execution_count": 19,
   "metadata": {
    "collapsed": true
   },
   "outputs": [],
   "source": [
    "from lxml import etree\n",
    "from IPython.core.display import display"
   ]
  },
  {
   "cell_type": "code",
   "execution_count": 12,
   "metadata": {
    "collapsed": false
   },
   "outputs": [],
   "source": [
    "tree= etree.fromstring(open('/Users/jaredlorince/Desktop/PaperContent5.xml').read()[1:])"
   ]
  },
  {
   "cell_type": "code",
   "execution_count": 27,
   "metadata": {
    "collapsed": false
   },
   "outputs": [
    {
     "name": "stdout",
     "output_type": "stream",
     "text": [
      "<Element {http://www.w3.org/1999/02/22-rdf-syntax-ns#}RDF at 0x104e602c8>\n",
      "<Element {http://www.elsevier.com/xml/common/doc-properties/schema}document-properties at 0x104eb5d48>\n",
      "<Element {http://www.elsevier.com/xml/ja/schema}simple-article at 0x104eb5d88>\n"
     ]
    }
   ],
   "source": [
    "for c in tree.iterchildren():\n",
    "    print(c)"
   ]
  },
  {
   "cell_type": "code",
   "execution_count": 37,
   "metadata": {
    "collapsed": false
   },
   "outputs": [
    {
     "ename": "SyntaxError",
     "evalue": "prefix 'ja' not found in prefix map (<string>)",
     "output_type": "error",
     "traceback": [
      "\u001b[0;36m  File \u001b[0;32m\"<string>\"\u001b[0;36m, line \u001b[0;32munknown\u001b[0m\n\u001b[0;31mSyntaxError\u001b[0m\u001b[0;31m:\u001b[0m prefix 'ja' not found in prefix map\n"
     ]
    }
   ],
   "source": [
    "tree.findall('{http://www.elsevier.com/xml/ja/schema}simple-article')[0].findall('{http://www.elsevier.com/xml/ja/schema}item-info')"
   ]
  },
  {
   "cell_type": "code",
   "execution_count": 62,
   "metadata": {
    "collapsed": false
   },
   "outputs": [
    {
     "name": "stdout",
     "output_type": "stream",
     "text": [
      "\n",
      "          \n",
      "One of the most important one-word sentences that exists is “Why?” It stimulates thought, leads the quest to find answers, and helps solve problems. Children innately ask why so frequently that it can drive their parents crazy, but adults often lose this curiosity.\n",
      "In today's evidenced-based practice environment, this question is even more important. Nurses often blanch when they hear the word \n",
      "\t\t\t\t\t\n",
      "Socrates, an Athenian philosopher who lived from 469 to 399 BCE (ie, before the common era),\n",
      "\t\t\t\t\t\t\n",
      "It has been said that one must ask “why” five times to get to the root of a situation or problem. This became true for me when I worked as a perioperative clinical nurse specialist. I was called to the postanesthesia care unit (PACU) to hear a complaint regarding the perioperative nurses. It seemed that they constantly sent patients to the PACU on a stretcher that was broken (ie, the head could not be raised). This restricted the PACU nurses from raising the head of the bed when managing a patient's airway or helping them to wake from anesthesia. The nurses in the PACU complained to the OR, but the problem was not resolved, and they wanted me to write a new policy on sending patients to recovery. Before proceeding further, I started to ask five “why” questions.\n",
      "\t\t\t\t\t\n",
      "\t\t\t\t\t\t\n",
      "I asked the OR nurse why she had put the patient on a broken stretcher. The nurse said it was because it was the stretcher outside the room. She was not aware it was broken and did not have time to look for another stretcher.\n",
      "I asked the OR director why a broken stretcher was being used. She said that it is what the transporters brought.\n",
      "I asked the transporters why they brought a broken stretcher. They said they had reported the problem to maintenance several times and even put a sign on it, but when the OR called, the broken stretcher was the only one available.\n",
      "I asked maintenance why they did not repair the broken stretcher. They replied that they had ordered a part and it had not yet come in. There were not enough stretchers, so the broken one was used.\n",
      "I asked purchasing why the part for the stretcher had not come in yet. They said that part was obsolete and could not be replaced.\n",
      "I put in a proposal to order new stretchers. The proposal was approved and this solved the problem.\n",
      "The lesson I learned was to ask the question “why” and not settle for an unre-searched solution (eg, accusing the perioperative nurses and putting another policy or procedure in place). Perioperative nurses are smart, clever, and creative; however, they live in a prescriptive environment where every action is preplanned and every thought has a guideline. Sometimes, nurses become so accustomed to having clear directions for every step of every process that they forget to ask why they are doing it. The theory behind the action is forgotten in the automatic habits forged in the OR. When habits take over thinking, anything outside the norm can be confusing, and the correct action can get lost. The reason something is done can be missed in the translation from theory to action.\n",
      "AORN helps perioperative nurses by preparing guidelines and recommended practices that are developed by asking why and using the most recent evidence for best practices. The cognitive ability of perioperative nurses to think and ask why, however, remains the most effective tool we have. The excellent research and quality improvement articles published in the \n",
      "\t\t\t\t\t\t\n"
     ]
    }
   ],
   "source": [
    "#tree.findall('.//ja:body/ce:sect',namespaces={'ja':'http://www.elsevier.com/xml/ja/schema'})\n",
    "for t in tree.findall('.//ce:para',namespaces={'ce':'http://www.elsevier.com/xml/common/schema'}):\n",
    "    print(t.text)"
   ]
  },
  {
   "cell_type": "code",
   "execution_count": 66,
   "metadata": {
    "collapsed": false
   },
   "outputs": [
    {
     "name": "stdout",
     "output_type": "stream",
     "text": [
      "\n",
      "      \n",
      "\n",
      "        \n",
      "\n",
      "          \n",
      "\n",
      "            \n",
      "\n",
      "              \n",
      "\n",
      "                \n",
      "Nancy J. Girard, RN\n",
      "None\n",
      "One of the most important one-word sentences that exists is “Why?” It stimulates thought, leads the quest to find answers, and helps solve problems. Children innately ask why so frequently that it can drive their parents crazy, but adults often lose this curiosity.\n",
      "In today's evidenced-based practice environment, this question is even more important. Nurses often blanch when they hear the word \n",
      "\t\t\t\t\t\n",
      "research\n",
      "\n",
      "          \n",
      "Teaching Strategy\n",
      "Socrates, an Athenian philosopher who lived from 469 to 399 BCE (ie, before the common era),\n",
      "\t\t\t\t\t\t\n",
      "None\n",
      "1\n",
      "None\n",
      "1\n",
      "None\n",
      "2\n",
      "None\n",
      "3\n",
      "None\n",
      "4\n",
      "\n",
      "          \n",
      "A “Why” Clinical Situation\n",
      "It has been said that one must ask “why” five times to get to the root of a situation or problem. This became true for me when I worked as a perioperative clinical nurse specialist. I was called to the postanesthesia care unit (PACU) to hear a complaint regarding the perioperative nurses. It seemed that they constantly sent patients to the PACU on a stretcher that was broken (ie, the head could not be raised). This restricted the PACU nurses from raising the head of the bed when managing a patient's airway or helping them to wake from anesthesia. The nurses in the PACU complained to the OR, but the problem was not resolved, and they wanted me to write a new policy on sending patients to recovery. Before proceeding further, I started to ask five “why” questions.\n",
      "\t\t\t\t\t\n",
      "\t\t\t\t\t\t\n",
      "None\n",
      "None\n",
      "•\n",
      "I asked the OR nurse why she had put the patient on a broken stretcher. The nurse said it was because it was the stretcher outside the room. She was not aware it was broken and did not have time to look for another stretcher.\n",
      "None\n",
      "•\n",
      "I asked the OR director why a broken stretcher was being used. She said that it is what the transporters brought.\n",
      "None\n",
      "•\n",
      "I asked the transporters why they brought a broken stretcher. They said they had reported the problem to maintenance several times and even put a sign on it, but when the OR called, the broken stretcher was the only one available.\n",
      "None\n",
      "•\n",
      "I asked maintenance why they did not repair the broken stretcher. They replied that they had ordered a part and it had not yet come in. There were not enough stretchers, so the broken one was used.\n",
      "None\n",
      "•\n",
      "I asked purchasing why the part for the stretcher had not come in yet. They said that part was obsolete and could not be replaced.\n",
      "I put in a proposal to order new stretchers. The proposal was approved and this solved the problem.\n",
      "\n",
      "          \n",
      "Lesson Learned\n",
      "The lesson I learned was to ask the question “why” and not settle for an unre-searched solution (eg, accusing the perioperative nurses and putting another policy or procedure in place). Perioperative nurses are smart, clever, and creative; however, they live in a prescriptive environment where every action is preplanned and every thought has a guideline. Sometimes, nurses become so accustomed to having clear directions for every step of every process that they forget to ask why they are doing it. The theory behind the action is forgotten in the automatic habits forged in the OR. When habits take over thinking, anything outside the norm can be confusing, and the correct action can get lost. The reason something is done can be missed in the translation from theory to action.\n",
      "AORN helps perioperative nurses by preparing guidelines and recommended practices that are developed by asking why and using the most recent evidence for best practices. The cognitive ability of perioperative nurses to think and ask why, however, remains the most effective tool we have. The excellent research and quality improvement articles published in the \n",
      "\t\t\t\t\t\t\n",
      "AORN Journal\n"
     ]
    }
   ],
   "source": [
    "for body in tree.findall('.//ja:body',namespaces={'ja':'http://www.elsevier.com/xml/ja/schema'}):\n",
    "    for node in body.iter('*'):\n",
    "        print(node.text)"
   ]
  },
  {
   "cell_type": "code",
   "execution_count": null,
   "metadata": {
    "collapsed": true
   },
   "outputs": [],
   "source": []
  }
 ],
 "metadata": {
  "anaconda-cloud": {},
  "kernelspec": {
   "display_name": "Python [conda root]",
   "language": "python",
   "name": "conda-root-py"
  },
  "language_info": {
   "codemirror_mode": {
    "name": "ipython",
    "version": 3
   },
   "file_extension": ".py",
   "mimetype": "text/x-python",
   "name": "python",
   "nbconvert_exporter": "python",
   "pygments_lexer": "ipython3",
   "version": "3.5.2"
  }
 },
 "nbformat": 4,
 "nbformat_minor": 1
}
