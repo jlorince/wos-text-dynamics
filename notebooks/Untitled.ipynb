{
 "cells": [
  {
   "cell_type": "code",
   "execution_count": 11,
   "metadata": {
    "collapsed": true
   },
   "outputs": [],
   "source": [
    "import numpy as np\n",
    "import pandas as pd\n",
    "from collections import Counter"
   ]
  },
  {
   "cell_type": "code",
   "execution_count": 14,
   "metadata": {
    "collapsed": false
   },
   "outputs": [],
   "source": [
    "text=\"elsevi pii polym vol elsevi scienc ltd print great right reserv exploit voltag contrast scan electron microscopi investig conduct polym composit resett fuse devic burdena guob hutchisona adepart materi univers oxford park road oxford bcorpor technolog europ raychem ltd faraday road swindon receiv februari revis june accept august voltag contrast scan electron microscopi exploit investig oper stabil conduct polym composit resett fuse devic shown techniqu enabl activ region devic imag henc posit shape compar success oper cycl consequ posit attach surfac electrod lead use diagnost tool investig configur devic morpholog conduct polym composit materi made elsevi scienc ltd right reserv keyword voltag contrast scan electron microscopi conduct polym composit carbon black introduct conduct polym composit produc load insul polym matrix suffici volum electr conduct filler interconnect conduct pathway exist throughout bulk materi result percol threshold filler matrix exceed case relat inexpens highstructur carbon black achiev relat low volum load enhanc process materi ensur cost conduct polym composit remain appeal addit composit behav nonlinear posit temperatur coeffici ptc resistor properti exploit number smartmateri applic includ selfregul heat cabl resett fuse devic case resett fuse devic design conduct moder current particular voltag regim said oper untrip passiv state howev fault develop shortcircuit abnorm high current would flow result excess energi dissip due intern resist heat would rapid warm polym matrix melt temperatur forc mark expans oolym break apart conduct network effect prevent high electr current flow present high resist devic said trip activ state howev fault pass polym matrix cool electr conduct pathway reestablish stabil correspond address present address school electron electr engin inform technolog mathemat univers surrey guildford surrey fax emaih aburden eesurreyacuk properti enhanc chemic radiat crosslink polym composit realiti process describ complex breakag conduct pathway composit instant reduc local current caus matrix cool contract howev soon two neighbour carbon black particl reestablish contact surg electr current consequenti reheat materi would caus local expans rebreak circuit dynam equilibrium would occur throughout region materi rate heat loss lowest region term hotplan consequ devic remain trip state fault pass howev despit broad understand conduct polym composit resett fuse devic still difficult quantifi inher stabil mani tripcycl particular clear morpholog chang occur life devic activ hotplan migrat time would also interest abl detect posit hotplan determin remain consist throughout batch similar devic paper techniqu exploit enabl posit hotplan determin investig stem fact across hotplan trip devic potenti drop appli voltag close zero due high electr resist broken network hotplan imping surfac hotlin across electr field chang henc possibl detect use voltag contrast scan electron microscopi vcsem past techniqu appli understand oper qualiti control aspect integr circuit region posit voltag bias relat neighbour region ground posit region appear darker reduc electr field polym volum number exploit vcsem investig polym fuse devic burden creat bias secondari electron detector henc secondari electron region collect less effici lead contrast hotplan trip conduct polym composit illustr schemat figur exagger util low voltag sem increas yield secondari electron reduc specimen charg increas voltag bias collector trip devic modest voltag also lead improv howev effect microscopi need appreci exampl high bias charg sampl bias detector distort imag creat lowvoltag sem reduc appar spatial resolut instrument experiment investig devic resett fuse type illustr figur obtain prior epoxyencapsul raychem ltd prepar examin slice away section devic sharp razor blade leav flat surfac angl slice set parallel figur sem holder design electr oper devic situ scale bar keithley scanner switch comput system use ieee interfac longterm test figur schemat circuit use power devic situ sem experi comput system enclos dot line use autom longterm test hotlin figur schemat untrip trip devic carbon black aggreg great exagger latter case voltag contrast seen sem figur devic prior epoxyencapsul show electrod sandwich conduct polym composit activ part devic scale bar secondari electron detector sem optim collect electron use creat imag reduc imag skew loss intens abil devic continu oper remov portion reflect intrins smart natur materi sampl holder design allow situ oper resett fuse devic investig sem illustr prepar devic place figur holder connect extern power suppli via electr port microscop specimen chamber schemat circuit shown figur microscop use cambridg instrument stereoscan sem usual oper use tungsten filament secondaryelectron detector use posit bias appli imag digit record use framestor card person comput order trip devic appli close power suppli switch circuit sever experi perform differ devic aim exploit imag techniqu sem general investig conduct polym composit materi devic describ mani process step give reliabl complet compon includ thermal process polym volum number exploit vcsem investig polym fuse devic burden ptfetap insut clamp screw figur flowerpress sem holder design clamp plaqu conduct polym composit materi electrod oper situ scale bar great modifi microstructur materi affect electr properti henc investig perform conduct polym composit materi press thin plaqu without subsequ process step materi function ptc resistor hope hotlin investig could achiev without ad complic process step attach electrod sampl holder design allow situ oper conduct polym composit investig sem dub flowerpress design squeez light plaqu materi provid electr contact surfac illustr figur order make good electr contact face thin plaqu sever techniqu attempt lamin plaqu avoid extra process step would introduc complic materi thermal histori make surfac prepar difficult discuss later silver paint electrodag also foubd unsuit surfac conduct coat unabl expand suffici polym cycl result dramat loss adhes layer buckl crack electrodecomposit interfac solut adopt sputtercoat thin layer gold surfac process thought rais temperatur materi signific surfac sampl prepar either cut sharp razor blade use glass knife cryomicrotom gave much smoother surfac suit prepar conduct polym composit goldsputt electrod possibl microtom devic attach thick metal electrod conduct polym composit introduc sem oper describ earlier order trip composit materi appli close switch circuit sever experi perform differ sampl result discuss singletrip imag devic first devic imag current figur top surfac prepar devic show asymmetr layout electrod leg voltag contrast two subsequ trip cycl devic untrip trip untrip trip scale bar flow shown figur trip appli result voltag contrast devic observ record shown figur current turn allow devic becom untrip shown figur second trip perform imag figur possibl claim first second trip devic even new devic may test product howev imag figur show trip devic investig situ would give rise expect voltag contrast interpret hotplan intersect surfac hotlin also show hotlin necessarili straight central believ due heatsink effect attach electrod modifi heat flow bulk particular asymmetr posit solder leg subsequ fix sem holder would remov heat devic nonuniform across cross section heat withdrawn effici region nearest leg effect push hotlin cross section away offcentr overal hotplan materi would therefor due heat remov devic effici one electrod probabl due better thermal contact sem holder electr connect rather variat electrod polym also illustr shortterm stabil devic subsequ trip hotlin seen locat figur montag differ devic show voltag contrast devic trip case electrod leg seen modifi posit shape hotlin similar way note angl prepar surfac respect bulk vari devic thermal effect also chang case hotlin straight central locat figur also clear show voltag contrast unprepar edg devic visibl extent part reversedpolar trip devic resett fuse devic capabl work regardless direct appli current henc polym volum number exploit vcsem investig polym fuse devic burden fuse trip reversedpolar voltag give hotplan locat origin trip negat voltag contrast confirm case although illustr paper mean techniqu locat investig posit stabil hotlin reliabl independ polar appli voltag multipletrip imag devic sem build imag simultan raster specimen monitor possibl slow scan speed trip devic sever time singl imag frame figur show voltag contrast part devic trip durat imag scan approach use figur howev figur illustr effect trip untrip devic singl scan show sever import contrast featur first hotlin remain stabl trip cycl trip voltag contrast occur would expect comparison figur would expect shortterm stabil seen earlier although case stabil seen least four cycl narrow region intermedi contrast separ untrip trip state devic poweredbutuntrip due minim gradual voltag drop across devic somewher finit time devic trip thus deduc scanspe sem sometim width contrast featur narrow success trip impli devic trip faster devic alreadi warm previous trip took less time respond next switch time reduc reset time extend poor thermal conduct vacuum sem henc heat transfer primarili conduct electrod rather convect surround environ figur sem imag acquir period henc measur second trip band devic took trip environ demonstr quantit inform gain techniqu use assess relat trip speed devic although vacuum environ thermal equival atmospher servic environ could provid uniform set condit benchmark seri devic configur investig untrip trip trip behaviour multipletrip longterm stabil test devic softwar program design oper tripswitch automat via iotech hardwar control card instal person comput attach keithley scanner design possibl use cycl routin imag acquisit softwar simultan setup illustr figur includ system enclos dot line enabl devic trip automat thousand time rapid success approxim remain sem extend cycl electronbeam damag minim turn sem electronbeam vacuum howev maintain advantag keep devic figur select devic exhibit voltag contrast trip case surfac prepar shaw razor blade sem oper except scale bar figur imag show voltag contrast trip devic obtain sem build imag slow scan specimen exploit untrip trip trip state record seri imag provid inform stabil hotlin switch time untrip trip state scale bar polym volum number exploit vcsem investig polym fuse devic burden sem imag mani trip would angl posit previous imag meant direct comparison could made topograph contrast variat could occur howev disadvantag tiedup sem long period time week longterm test describ figur illustr voltag contrast seen devic longterm test figur seen second third drip respect exclud perform manufactur figur left trip time use softwar control program trip view voltag contrast hotlin figur taken trip view figur trip view partfaft trip view note latter two entail continu oper devic day day respect howev immedi appar stabil hotlin good cycl posit shape notic chang although result may expect devic sort design oper mani thousand cycl known visual evid confirm inher reliabl devic character stabl hotlin signific portion life inout trial devic also interest whether hotlin could review devic taken sem holder success perform devic use previous section result import longterm test perform sem general use long exampl devic could trip continu mani month reanalys see hotlin drift occur time scale kind test includ studi howev investig current oper trip devic seen fall sem pump prepar review hotlin exampl one devic oper draw room environ howev pump commenc seen fall turbomolecular pump achiev base column pressur explain thermal effect environ vacuum improv loss heat devic surround convect reduc devic becam warmer resist show import heatloss mechan defin characterist devic fact devic could behav differ vacuum environ sem demonstr voltag contrast conduct polym composit materi voltag contrast achiev sampl conduct polym composit two exampl illustr figur one prepar razorblad microtom latter give better surfac finish reduc topograph contrast sem imag thus enhanc voltag contrast figur also indic various part holder seen situ hotlin seen run parallel edg devic show curv deviat attribut electrod leg case figur longterm test devic confirm stabil hotlin devic pictur trip state alter approxim trip cycl scale bar figur two exampl hotlin sampl conduct polym composit mount flowerpress nickel metal tab use improv electr connect copper plate holder gold surfac materi seen trip sem scale bar polym volum number exploit vcsem investig polym fuse devic burden devic good agreement discuss held earlier also posit hotlin necessarili central differ thermal contact holder one side materi fact sometim quit difficult trip conduct polym composit flowerpress squeez tight effect remov heat devic would allow materi expand suffici produc increas resist convers grip poor electr contact errat spark destroy gold layer surfac therefor materi somewhat subject mount holder howev previous untest materi possibl know number cycl materi case figur seen second trip first conduct sem evacu ensur adequ electr contact capabl morpholog studi main purpos perform test conduct polym composit demonstr techniqu could use learn morpholog composit particular differ activ region devic elsewher figur show best resolut achiev sem devic oper voltag contrast seen higher magnif topograph contrast becom signific howev vicin hotlin seen figur loa featur interpret carbon black aggreg approxim size howev clear littl use morpholog inform forthcom anoth approach would record posit hotlin voltag contrast transfer sampl microscop improv perform morpholog studi exampl reprot materi also prepar morpholog investig carbon black case surfac interest etch usin solut part contain concentr sulphur acid select remov thin layer polym surfac leav carbon black aggreg place could perform devic figur higher magnif imag area hotlin oper devic featur interpret carbon black aggreg polym matrix detail morpholog great scale bar figur region near identifi hotlin mark crosshair anoth sem chemic etch surfac scale bar detail hotlin region shown scale bar carbon black aggreg also clear seen surfac polym etch away scale bar polym volum number exploit vcsem investig polym fuse devic burden investig previous metal electrod poison etchsolut surfac light coat carbon view convent sem sem use cambridg stereoscan instrument fit lab filament oeprat figur show earlier area reloc crosshair mark posit activ region previous identifi hotlin etch region seen greater detail way illustr carbon black primari particl imag identifi hotlin possibl probe region detail studi morpholog case comparison area lead signific differ identifi suspect polym rather carbon black distribut morpholog would becom modifi activ region henc futur studi would need perform unetch possibl stain materi conclus voltag contrast sem exploit investig posit hotplan number power resett fuse devic various experi employ show posit hotplan surfac composit stabl success tripcycl also shown posit consist oper reversepolar irregular shape hotplan explain surfac heatsink effect posit electrod conduct polym composit materi also investig abil investig hotlin demonstr case substanti amount development work shown sputter gold layer form best electrod thermal mechan process attach perman electrod avoid abil identifi activ region enabl learnt morpholog materi found carbon black distribut signific alter near hotlin suspect polym would show microstructur differ develop techniqu provid mean investig aspect conduct polym composit devic detail acknowledg project fund epsrc case studentship collabor corpor technolog europ raychem ltd swindon thank professor cantor reid provis laboratori facil also thank appello optim gold sputter process cheetham help advic sem ultramicrotomi facil hopper baigri invalu scientif discuss trademark raychem corpor refer jurado mour duran rodriguez linar acosta mater sci sherman middleman jacob polym eng sci hsu holtj barkley mater sci lett donner carbon black edn marcel dekker new york meyer polym eng sci voet rubber chem technol wenyuan bingzhi yunzhi radiat phys chem buech appl phys walsh gaynier degrendel sae technic paper seri meyer polym eng sci benguigui yacubowicz narki polym sci part polym phys huali hao jianhui xinfang radiat phys chem newburi joy echlin foiri goldstein advanc scan electron microscopi xray microanalysi plenum press new york reimer imag format lowvoltag scan electron microscopi spie optic engin press narki ram flashner polym eng sci narki ram stein polym eng sci vaughan mater sci polym volum number\"\n",
    "text = text.split()"
   ]
  },
  {
   "cell_type": "code",
   "execution_count": 15,
   "metadata": {
    "collapsed": false
   },
   "outputs": [
    {
     "data": {
      "text/plain": [
       "(2463, 791)"
      ]
     },
     "execution_count": 15,
     "metadata": {},
     "output_type": "execute_result"
    }
   ],
   "source": [
    "len(text),len(Counter(text))"
   ]
  },
  {
   "cell_type": "code",
   "execution_count": 36,
   "metadata": {
    "collapsed": false
   },
   "outputs": [
    {
     "data": {
      "text/plain": [
       "abil             3\n",
       "abl              4\n",
       "abnorm           5\n",
       "aburden          6\n",
       "accept           7\n",
       "achiev          12\n",
       "acid            13\n",
       "acknowledg      14\n",
       "acosta          15\n",
       "acquir          16\n",
       "acquisit        17\n",
       "across          21\n",
       "activ           29\n",
       "ad              30\n",
       "addit           31\n",
       "address         33\n",
       "adepart         34\n",
       "adequ           35\n",
       "adhes           36\n",
       "adopt           37\n",
       "advanc          38\n",
       "advantag        39\n",
       "advic           40\n",
       "affect          41\n",
       "aggreg          46\n",
       "agreement       47\n",
       "aim             48\n",
       "allow           52\n",
       "alreadi         53\n",
       "also            68\n",
       "              ... \n",
       "vaughan       2363\n",
       "vcsem         2370\n",
       "via           2372\n",
       "vicin         2373\n",
       "view          2378\n",
       "visibl        2379\n",
       "visual        2380\n",
       "voet          2381\n",
       "vol           2382\n",
       "voltag        2414\n",
       "volum         2423\n",
       "walsh         2424\n",
       "warm          2426\n",
       "warmer        2427\n",
       "way           2429\n",
       "week          2430\n",
       "wenyuan       2431\n",
       "whether       2432\n",
       "width         2433\n",
       "withdrawn     2434\n",
       "without       2436\n",
       "work          2438\n",
       "would         2455\n",
       "xinfang       2456\n",
       "xray          2457\n",
       "yacubowicz    2458\n",
       "yield         2459\n",
       "york          2461\n",
       "yunzhi        2462\n",
       "zero          2463\n",
       "dtype: int64"
      ]
     },
     "execution_count": 36,
     "metadata": {},
     "output_type": "execute_result"
    }
   ],
   "source": [
    "pd.Series(Counter(text)).cumsum()"
   ]
  },
  {
   "cell_type": "code",
   "execution_count": 20,
   "metadata": {
    "collapsed": false
   },
   "outputs": [
    {
     "data": {
      "text/plain": [
       "abil       3\n",
       "abl        1\n",
       "abnorm     1\n",
       "aburden    1\n",
       "accept     1\n",
       "dtype: int64"
      ]
     },
     "execution_count": 20,
     "metadata": {},
     "output_type": "execute_result"
    }
   ],
   "source": [
    "pd.Series(Counter(text)).head()"
   ]
  },
  {
   "cell_type": "code",
   "execution_count": 59,
   "metadata": {
    "collapsed": false
   },
   "outputs": [],
   "source": [
    "bins = pd.Series(Counter(text)).cumsum().head(10)\n",
    "\n",
    "for _ in range(5):\n",
    "    i = np.random.randint(bins.max())\n",
    "    sample_idx = np.digitize(i,bins,right=False)\n",
    "    print(i,sample_idx,bins.index[sample_idx])\n",
    "    bins[bins>=i] -= 1\n"
   ]
  },
  {
   "cell_type": "code",
   "execution_count": 54,
   "metadata": {
    "collapsed": false
   },
   "outputs": [
    {
     "data": {
      "text/plain": [
       "aburden     4\n",
       "acosta     10\n",
       "dtype: int64"
      ]
     },
     "execution_count": 54,
     "metadata": {},
     "output_type": "execute_result"
    }
   ],
   "source": [
    "bins[bins==bins.shift(1)]"
   ]
  },
  {
   "cell_type": "code",
   "execution_count": 61,
   "metadata": {
    "collapsed": false
   },
   "outputs": [
    {
     "data": {
      "text/plain": [
       "abil           4.0\n",
       "abl            5.0\n",
       "abnorm         6.0\n",
       "aburden        7.0\n",
       "accept        12.0\n",
       "achiev        13.0\n",
       "acid          14.0\n",
       "acknowledg    15.0\n",
       "acosta        16.0\n",
       "acquir         NaN\n",
       "dtype: float64"
      ]
     },
     "execution_count": 61,
     "metadata": {},
     "output_type": "execute_result"
    }
   ],
   "source": [
    "bins.shift(-1)"
   ]
  },
  {
   "cell_type": "code",
   "execution_count": 60,
   "metadata": {
    "collapsed": false
   },
   "outputs": [
    {
     "data": {
      "text/plain": [
       "abil           3\n",
       "abl            4\n",
       "abnorm         5\n",
       "aburden        6\n",
       "accept         7\n",
       "achiev        12\n",
       "acid          13\n",
       "acknowledg    14\n",
       "acosta        15\n",
       "acquir        16\n",
       "dtype: int64"
      ]
     },
     "execution_count": 60,
     "metadata": {},
     "output_type": "execute_result"
    }
   ],
   "source": [
    "bins"
   ]
  },
  {
   "cell_type": "code",
   "execution_count": 70,
   "metadata": {
    "collapsed": false
   },
   "outputs": [
    {
     "data": {
      "text/plain": [
       "array(0)"
      ]
     },
     "execution_count": 70,
     "metadata": {},
     "output_type": "execute_result"
    }
   ],
   "source": [
    "np.digitize(0,[1,5])"
   ]
  },
  {
   "cell_type": "code",
   "execution_count": null,
   "metadata": {
    "collapsed": true
   },
   "outputs": [],
   "source": []
  }
 ],
 "metadata": {
  "anaconda-cloud": {},
  "kernelspec": {
   "display_name": "Python [conda root]",
   "language": "python",
   "name": "conda-root-py"
  },
  "language_info": {
   "codemirror_mode": {
    "name": "ipython",
    "version": 3
   },
   "file_extension": ".py",
   "mimetype": "text/x-python",
   "name": "python",
   "nbconvert_exporter": "python",
   "pygments_lexer": "ipython3",
   "version": "3.5.2"
  }
 },
 "nbformat": 4,
 "nbformat_minor": 1
}
