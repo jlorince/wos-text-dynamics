{
 "cells": [
  {
   "cell_type": "code",
   "execution_count": 1,
   "metadata": {
    "collapsed": true
   },
   "outputs": [],
   "source": [
    "import numpy as np\n",
    "import pylab as plt\n",
    "import pickle\n",
    "import os,sys\n",
    "import pandas as pd\n",
    "from collections import Counter\n",
    "\n",
    "%matplotlib inline  \n",
    "%load_ext autoreload\n",
    "%autoreload 2"
   ]
  },
  {
   "cell_type": "code",
   "execution_count": 2,
   "metadata": {
    "collapsed": true
   },
   "outputs": [],
   "source": [
    "pd.set_option('display.max_rows', 10)"
   ]
  },
  {
   "cell_type": "code",
   "execution_count": 6,
   "metadata": {
    "collapsed": false
   },
   "outputs": [
    {
     "name": "stdout",
     "output_type": "stream",
     "text": [
      "/DRIVE/REPOS/wos-text-dynamics/data\n"
     ]
    }
   ],
   "source": [
    "path_data = os.path.abspath(os.path.join(os.pardir,'data'))\n",
    "print(path_data)"
   ]
  },
  {
   "cell_type": "markdown",
   "metadata": {},
   "source": [
    "### physics-citations dataframe\n",
    "\n",
    "this only has number of citations and year of a ut"
   ]
  },
  {
   "cell_type": "code",
   "execution_count": 7,
   "metadata": {
    "collapsed": false
   },
   "outputs": [],
   "source": [
    "fname_data = 'physics_citations.pkl'\n",
    "with open(os.path.join(path_data,fname_data),'rb') as f:\n",
    "    x=pickle.load(f,encoding='latin-1')\n"
   ]
  },
  {
   "cell_type": "code",
   "execution_count": 8,
   "metadata": {
    "collapsed": false
   },
   "outputs": [
    {
     "data": {
      "text/html": [
       "<div>\n",
       "<table border=\"1\" class=\"dataframe\">\n",
       "  <thead>\n",
       "    <tr style=\"text-align: right;\">\n",
       "      <th></th>\n",
       "      <th>source</th>\n",
       "      <th>year</th>\n",
       "      <th>Count</th>\n",
       "    </tr>\n",
       "  </thead>\n",
       "  <tbody>\n",
       "    <tr>\n",
       "      <th>0</th>\n",
       "      <td>WOS:000170436300034</td>\n",
       "      <td>2009</td>\n",
       "      <td>1</td>\n",
       "    </tr>\n",
       "    <tr>\n",
       "      <th>1</th>\n",
       "      <td>WOS:000286734400001</td>\n",
       "      <td>2015</td>\n",
       "      <td>3</td>\n",
       "    </tr>\n",
       "    <tr>\n",
       "      <th>2</th>\n",
       "      <td>WOS:000243168500062</td>\n",
       "      <td>2007</td>\n",
       "      <td>4</td>\n",
       "    </tr>\n",
       "    <tr>\n",
       "      <th>3</th>\n",
       "      <td>WOS:000187183400031</td>\n",
       "      <td>2012</td>\n",
       "      <td>2</td>\n",
       "    </tr>\n",
       "    <tr>\n",
       "      <th>4</th>\n",
       "      <td>WOS:000239690900036</td>\n",
       "      <td>2011</td>\n",
       "      <td>1</td>\n",
       "    </tr>\n",
       "    <tr>\n",
       "      <th>...</th>\n",
       "      <td>...</td>\n",
       "      <td>...</td>\n",
       "      <td>...</td>\n",
       "    </tr>\n",
       "    <tr>\n",
       "      <th>1486898</th>\n",
       "      <td>WOS:000178624400038</td>\n",
       "      <td>2008</td>\n",
       "      <td>1</td>\n",
       "    </tr>\n",
       "    <tr>\n",
       "      <th>1486899</th>\n",
       "      <td>WOS:A1995TN92700049</td>\n",
       "      <td>1998</td>\n",
       "      <td>1</td>\n",
       "    </tr>\n",
       "    <tr>\n",
       "      <th>1486900</th>\n",
       "      <td>WOS:A1996VM97600076</td>\n",
       "      <td>2008</td>\n",
       "      <td>1</td>\n",
       "    </tr>\n",
       "    <tr>\n",
       "      <th>1486901</th>\n",
       "      <td>WOS:A1992KA57700009</td>\n",
       "      <td>1996</td>\n",
       "      <td>1</td>\n",
       "    </tr>\n",
       "    <tr>\n",
       "      <th>1486902</th>\n",
       "      <td>WOS:000072641400014</td>\n",
       "      <td>2001</td>\n",
       "      <td>1</td>\n",
       "    </tr>\n",
       "  </tbody>\n",
       "</table>\n",
       "<p>1486903 rows × 3 columns</p>\n",
       "</div>"
      ],
      "text/plain": [
       "                      source  year  Count\n",
       "0        WOS:000170436300034  2009      1\n",
       "1        WOS:000286734400001  2015      3\n",
       "2        WOS:000243168500062  2007      4\n",
       "3        WOS:000187183400031  2012      2\n",
       "4        WOS:000239690900036  2011      1\n",
       "...                      ...   ...    ...\n",
       "1486898  WOS:000178624400038  2008      1\n",
       "1486899  WOS:A1995TN92700049  1998      1\n",
       "1486900  WOS:A1996VM97600076  2008      1\n",
       "1486901  WOS:A1992KA57700009  1996      1\n",
       "1486902  WOS:000072641400014  2001      1\n",
       "\n",
       "[1486903 rows x 3 columns]"
      ]
     },
     "execution_count": 8,
     "metadata": {},
     "output_type": "execute_result"
    }
   ],
   "source": [
    "x"
   ]
  },
  {
   "cell_type": "code",
   "execution_count": null,
   "metadata": {
    "collapsed": true
   },
   "outputs": [],
   "source": []
  },
  {
   "cell_type": "code",
   "execution_count": null,
   "metadata": {
    "collapsed": true
   },
   "outputs": [],
   "source": []
  },
  {
   "cell_type": "code",
   "execution_count": null,
   "metadata": {
    "collapsed": true
   },
   "outputs": [],
   "source": []
  },
  {
   "cell_type": "code",
   "execution_count": null,
   "metadata": {
    "collapsed": true
   },
   "outputs": [],
   "source": []
  },
  {
   "cell_type": "code",
   "execution_count": null,
   "metadata": {
    "collapsed": true
   },
   "outputs": [],
   "source": []
  },
  {
   "cell_type": "markdown",
   "metadata": {},
   "source": [
    "## Dataframe containing all info on physics (Physical Review)\n",
    "\n",
    "this contains all the information\n",
    "- wos-UT\n",
    "- abstract (raw and stemmed)\n",
    "- pub-type\n",
    "- title\n",
    "- journal\n",
    "- art-type\n",
    "- category (wos: heading, subheading, cat)\n",
    "- references\n",
    "- keywords (author-supplied)\n",
    "- year"
   ]
  },
  {
   "cell_type": "code",
   "execution_count": 9,
   "metadata": {
    "collapsed": true
   },
   "outputs": [],
   "source": [
    "fname_data = 'all_pubs.pkl'\n",
    "with open(os.path.join(path_data,fname_data),'rb') as f:\n",
    "    x=pickle.load(f,encoding='latin-1')\n"
   ]
  },
  {
   "cell_type": "code",
   "execution_count": 10,
   "metadata": {
    "collapsed": false
   },
   "outputs": [
    {
     "data": {
      "text/html": [
       "<div>\n",
       "<table border=\"1\" class=\"dataframe\">\n",
       "  <thead>\n",
       "    <tr style=\"text-align: right;\">\n",
       "      <th></th>\n",
       "      <th>uid</th>\n",
       "      <th>abstract</th>\n",
       "      <th>abs_stemmed</th>\n",
       "      <th>abs_raw</th>\n",
       "      <th>pubtype</th>\n",
       "      <th>paper_title</th>\n",
       "      <th>source_title</th>\n",
       "      <th>doctype</th>\n",
       "      <th>heading</th>\n",
       "      <th>subheading</th>\n",
       "      <th>categories</th>\n",
       "      <th>refs</th>\n",
       "      <th>keywords</th>\n",
       "      <th>year</th>\n",
       "    </tr>\n",
       "  </thead>\n",
       "  <tbody>\n",
       "    <tr>\n",
       "      <th>0</th>\n",
       "      <td>WOS:A1991GN30400003</td>\n",
       "      <td>We prove that dispersion relations similar to ...</td>\n",
       "      <td>we prove that dispers relat similar to the kra...</td>\n",
       "      <td>we prove that dispersion relations similar to ...</td>\n",
       "      <td>Journal</td>\n",
       "      <td>DISPERSION-RELATIONS AND SUM-RULES IN NONLINEA...</td>\n",
       "      <td>PHYSICAL REVIEW B</td>\n",
       "      <td>Article</td>\n",
       "      <td>Science &amp; Technology</td>\n",
       "      <td>Physical Sciences</td>\n",
       "      <td>[Physics, Condensed Matter]</td>\n",
       "      <td>WOS:A1976CV18300002|WOS:A1976CL53500002|WOS:A1...</td>\n",
       "      <td>constants|superconvergence|transitions</td>\n",
       "      <td>1991</td>\n",
       "    </tr>\n",
       "    <tr>\n",
       "      <th>1</th>\n",
       "      <td>WOS:A1991FY46300010</td>\n",
       "      <td>We derive generalizations of the semiclassical...</td>\n",
       "      <td>we deriv general of the semiclass trace formul...</td>\n",
       "      <td>we derive generalizations of the semiclassical...</td>\n",
       "      <td>Journal</td>\n",
       "      <td>SEMICLASSICAL TRACE FORMULAS IN THE PRESENCE O...</td>\n",
       "      <td>PHYSICAL REVIEW A</td>\n",
       "      <td>Article</td>\n",
       "      <td>Science &amp; Technology</td>\n",
       "      <td>Physical Sciences</td>\n",
       "      <td>[Optics, Physics, Atomic, Molecular &amp; Chemical]</td>\n",
       "      <td>WOS:A1976BP76800007|WOS:A1969D527600006|WOS:A1...</td>\n",
       "      <td>periodic-orbits|quantum spectra|bound spectrum...</td>\n",
       "      <td>1991</td>\n",
       "    </tr>\n",
       "    <tr>\n",
       "      <th>2</th>\n",
       "      <td>WOS:A1991GE93600008</td>\n",
       "      <td>The upsilon-representability of the particle d...</td>\n",
       "      <td>the upsilonrepresent of the particl densiti fo...</td>\n",
       "      <td>the upsilon-representability of the particle d...</td>\n",
       "      <td>Journal</td>\n",
       "      <td>UPSILON-REPRESENTABILITY FOR SYSTEMS OF A FEW ...</td>\n",
       "      <td>PHYSICAL REVIEW A</td>\n",
       "      <td>Article</td>\n",
       "      <td>Science &amp; Technology</td>\n",
       "      <td>Physical Sciences</td>\n",
       "      <td>[Optics, Physics, Atomic, Molecular &amp; Chemical]</td>\n",
       "      <td>WOS:A19657000000015|WOS:A19641557C00018|WOS:A1...</td>\n",
       "      <td>density-functional theory|ground-state|effecti...</td>\n",
       "      <td>1991</td>\n",
       "    </tr>\n",
       "    <tr>\n",
       "      <th>3</th>\n",
       "      <td>WOS:A1991GB37700004</td>\n",
       "      <td>A noncompact formulation of gauge theories on ...</td>\n",
       "      <td>a noncompact formul of gaug theori on the latt...</td>\n",
       "      <td>a noncompact formulation of gauge theories on ...</td>\n",
       "      <td>Journal</td>\n",
       "      <td>COMPACT AND NONCOMPACT GAUGE-THEORIES ON A LAT...</td>\n",
       "      <td>PHYSICAL REVIEW D</td>\n",
       "      <td>Note</td>\n",
       "      <td>Science &amp; Technology</td>\n",
       "      <td>Physical Sciences</td>\n",
       "      <td>[Astronomy &amp; Astrophysics, Physics, Particles ...</td>\n",
       "      <td>000353892000006.27|WOS:A1990DQ70600011|WOS:A19...</td>\n",
       "      <td>NaN</td>\n",
       "      <td>1991</td>\n",
       "    </tr>\n",
       "    <tr>\n",
       "      <th>4</th>\n",
       "      <td>WOS:A1991FP08500010</td>\n",
       "      <td>Toroidally rotating saturated 2/1 and 3/1 tear...</td>\n",
       "      <td>toroid rotat satur 21 and 31 tear mode in a to...</td>\n",
       "      <td>toroidally rotating saturated 2/1 and 3/1 tear...</td>\n",
       "      <td>Journal</td>\n",
       "      <td>STABILITY OF DISRUPTION PRECURSORS IN A TOKAMA...</td>\n",
       "      <td>PHYSICAL REVIEW LETTERS</td>\n",
       "      <td>Article</td>\n",
       "      <td>Science &amp; Technology</td>\n",
       "      <td>Physical Sciences</td>\n",
       "      <td>[Physics, Multidisciplinary]</td>\n",
       "      <td>WOS:A1989AP23100004|WOS:A1982PH84100002|000352...</td>\n",
       "      <td>stabilization|mode</td>\n",
       "      <td>1991</td>\n",
       "    </tr>\n",
       "    <tr>\n",
       "      <th>...</th>\n",
       "      <td>...</td>\n",
       "      <td>...</td>\n",
       "      <td>...</td>\n",
       "      <td>...</td>\n",
       "      <td>...</td>\n",
       "      <td>...</td>\n",
       "      <td>...</td>\n",
       "      <td>...</td>\n",
       "      <td>...</td>\n",
       "      <td>...</td>\n",
       "      <td>...</td>\n",
       "      <td>...</td>\n",
       "      <td>...</td>\n",
       "      <td>...</td>\n",
       "    </tr>\n",
       "    <tr>\n",
       "      <th>15959</th>\n",
       "      <td>WOS:000352472400001</td>\n",
       "      <td>Tune-out wavelengths measured with an atom int...</td>\n",
       "      <td>tuneout wavelength measur with an atom interfe...</td>\n",
       "      <td>tune-out wavelengths measured with an atom int...</td>\n",
       "      <td>Journal</td>\n",
       "      <td>Atom Interferometer Gyroscope with Spin-Depend...</td>\n",
       "      <td>PHYSICAL REVIEW LETTERS</td>\n",
       "      <td>Article</td>\n",
       "      <td>Science &amp; Technology</td>\n",
       "      <td>Physical Sciences</td>\n",
       "      <td>[Physics, Multidisciplinary]</td>\n",
       "      <td>WOS:A1986D753900001|WOS:A1997WN07900004|WOS:A1...</td>\n",
       "      <td>matter-wave interferometry</td>\n",
       "      <td>2015</td>\n",
       "    </tr>\n",
       "    <tr>\n",
       "      <th>15960</th>\n",
       "      <td>WOS:000363526000006</td>\n",
       "      <td>Alpha decays in the EXO-200 detector are used ...</td>\n",
       "      <td>alpha decay in the exo200 detector are use to ...</td>\n",
       "      <td>alpha decays in the exo-200 detector are used ...</td>\n",
       "      <td>Journal</td>\n",
       "      <td>Measurements of the ion fraction and mobility ...</td>\n",
       "      <td>PHYSICAL REVIEW C</td>\n",
       "      <td>Article</td>\n",
       "      <td>Science &amp; Technology</td>\n",
       "      <td>Physical Sciences</td>\n",
       "      <td>[Physics, Nuclear]</td>\n",
       "      <td>WOS:A1996UM20100011|WOS:000176451500064|WOS:00...</td>\n",
       "      <td>particles|argon</td>\n",
       "      <td>2015</td>\n",
       "    </tr>\n",
       "    <tr>\n",
       "      <th>15961</th>\n",
       "      <td>WOS:000366100500015</td>\n",
       "      <td>In a classical ideal plasma, a magnetic field ...</td>\n",
       "      <td>in a classic ideal plasma a magnet field is kn...</td>\n",
       "      <td>in a classical ideal plasma ,  a magnetic fiel...</td>\n",
       "      <td>Journal</td>\n",
       "      <td>Effect of correlations on heat transport in a ...</td>\n",
       "      <td>PHYSICAL REVIEW E</td>\n",
       "      <td>Article</td>\n",
       "      <td>Science &amp; Technology</td>\n",
       "      <td>Physical Sciences</td>\n",
       "      <td>[Physics, Fluids &amp; Plasmas, Physics, Mathemati...</td>\n",
       "      <td>WOS:A19657021700008|WOS:A1950UB81700010|WOS:A1...</td>\n",
       "      <td>one-component plasma|neutron-stars|thermal-con...</td>\n",
       "      <td>2015</td>\n",
       "    </tr>\n",
       "    <tr>\n",
       "      <th>15962</th>\n",
       "      <td>WOS:000363506300003</td>\n",
       "      <td>As second-generation gravitational-wave detect...</td>\n",
       "      <td>as secondgener gravitationalwav detector prepa...</td>\n",
       "      <td>as second-generation gravitational-wave detect...</td>\n",
       "      <td>Journal</td>\n",
       "      <td>Detecting Gravitation-Wave Transients at 5 sig...</td>\n",
       "      <td>PHYSICAL REVIEW LETTERS</td>\n",
       "      <td>Article</td>\n",
       "      <td>Science &amp; Technology</td>\n",
       "      <td>Physical Sciences</td>\n",
       "      <td>[Physics, Multidisciplinary]</td>\n",
       "      <td>WOS:000245405900041|WOS:000259014700009|WOS:00...</td>\n",
       "      <td>fallback</td>\n",
       "      <td>2015</td>\n",
       "    </tr>\n",
       "    <tr>\n",
       "      <th>15963</th>\n",
       "      <td>WOS:000352154400001</td>\n",
       "      <td>A search is performed for long-lived particles...</td>\n",
       "      <td>a search is perform for longliv particl that d...</td>\n",
       "      <td>a search is performed for long-lived particles...</td>\n",
       "      <td>Journal</td>\n",
       "      <td>Search for long-lived particles that decay int...</td>\n",
       "      <td>PHYSICAL REVIEW D</td>\n",
       "      <td>Article</td>\n",
       "      <td>Science &amp; Technology</td>\n",
       "      <td>Physical Sciences</td>\n",
       "      <td>[Astronomy &amp; Astrophysics, Physics, Particles ...</td>\n",
       "      <td>WOS:000183910800004|WOS:A1997WZ67700003|WOS:A1...</td>\n",
       "      <td>NaN</td>\n",
       "      <td>2015</td>\n",
       "    </tr>\n",
       "  </tbody>\n",
       "</table>\n",
       "<p>368914 rows × 14 columns</p>\n",
       "</div>"
      ],
      "text/plain": [
       "                       uid                                           abstract  \\\n",
       "0      WOS:A1991GN30400003  We prove that dispersion relations similar to ...   \n",
       "1      WOS:A1991FY46300010  We derive generalizations of the semiclassical...   \n",
       "2      WOS:A1991GE93600008  The upsilon-representability of the particle d...   \n",
       "3      WOS:A1991GB37700004  A noncompact formulation of gauge theories on ...   \n",
       "4      WOS:A1991FP08500010  Toroidally rotating saturated 2/1 and 3/1 tear...   \n",
       "...                    ...                                                ...   \n",
       "15959  WOS:000352472400001  Tune-out wavelengths measured with an atom int...   \n",
       "15960  WOS:000363526000006  Alpha decays in the EXO-200 detector are used ...   \n",
       "15961  WOS:000366100500015  In a classical ideal plasma, a magnetic field ...   \n",
       "15962  WOS:000363506300003  As second-generation gravitational-wave detect...   \n",
       "15963  WOS:000352154400001  A search is performed for long-lived particles...   \n",
       "\n",
       "                                             abs_stemmed  \\\n",
       "0      we prove that dispers relat similar to the kra...   \n",
       "1      we deriv general of the semiclass trace formul...   \n",
       "2      the upsilonrepresent of the particl densiti fo...   \n",
       "3      a noncompact formul of gaug theori on the latt...   \n",
       "4      toroid rotat satur 21 and 31 tear mode in a to...   \n",
       "...                                                  ...   \n",
       "15959  tuneout wavelength measur with an atom interfe...   \n",
       "15960  alpha decay in the exo200 detector are use to ...   \n",
       "15961  in a classic ideal plasma a magnet field is kn...   \n",
       "15962  as secondgener gravitationalwav detector prepa...   \n",
       "15963  a search is perform for longliv particl that d...   \n",
       "\n",
       "                                                 abs_raw  pubtype  \\\n",
       "0      we prove that dispersion relations similar to ...  Journal   \n",
       "1      we derive generalizations of the semiclassical...  Journal   \n",
       "2      the upsilon-representability of the particle d...  Journal   \n",
       "3      a noncompact formulation of gauge theories on ...  Journal   \n",
       "4      toroidally rotating saturated 2/1 and 3/1 tear...  Journal   \n",
       "...                                                  ...      ...   \n",
       "15959  tune-out wavelengths measured with an atom int...  Journal   \n",
       "15960  alpha decays in the exo-200 detector are used ...  Journal   \n",
       "15961  in a classical ideal plasma ,  a magnetic fiel...  Journal   \n",
       "15962  as second-generation gravitational-wave detect...  Journal   \n",
       "15963  a search is performed for long-lived particles...  Journal   \n",
       "\n",
       "                                             paper_title  \\\n",
       "0      DISPERSION-RELATIONS AND SUM-RULES IN NONLINEA...   \n",
       "1      SEMICLASSICAL TRACE FORMULAS IN THE PRESENCE O...   \n",
       "2      UPSILON-REPRESENTABILITY FOR SYSTEMS OF A FEW ...   \n",
       "3      COMPACT AND NONCOMPACT GAUGE-THEORIES ON A LAT...   \n",
       "4      STABILITY OF DISRUPTION PRECURSORS IN A TOKAMA...   \n",
       "...                                                  ...   \n",
       "15959  Atom Interferometer Gyroscope with Spin-Depend...   \n",
       "15960  Measurements of the ion fraction and mobility ...   \n",
       "15961  Effect of correlations on heat transport in a ...   \n",
       "15962  Detecting Gravitation-Wave Transients at 5 sig...   \n",
       "15963  Search for long-lived particles that decay int...   \n",
       "\n",
       "                  source_title  doctype               heading  \\\n",
       "0            PHYSICAL REVIEW B  Article  Science & Technology   \n",
       "1            PHYSICAL REVIEW A  Article  Science & Technology   \n",
       "2            PHYSICAL REVIEW A  Article  Science & Technology   \n",
       "3            PHYSICAL REVIEW D     Note  Science & Technology   \n",
       "4      PHYSICAL REVIEW LETTERS  Article  Science & Technology   \n",
       "...                        ...      ...                   ...   \n",
       "15959  PHYSICAL REVIEW LETTERS  Article  Science & Technology   \n",
       "15960        PHYSICAL REVIEW C  Article  Science & Technology   \n",
       "15961        PHYSICAL REVIEW E  Article  Science & Technology   \n",
       "15962  PHYSICAL REVIEW LETTERS  Article  Science & Technology   \n",
       "15963        PHYSICAL REVIEW D  Article  Science & Technology   \n",
       "\n",
       "              subheading                                         categories  \\\n",
       "0      Physical Sciences                        [Physics, Condensed Matter]   \n",
       "1      Physical Sciences    [Optics, Physics, Atomic, Molecular & Chemical]   \n",
       "2      Physical Sciences    [Optics, Physics, Atomic, Molecular & Chemical]   \n",
       "3      Physical Sciences  [Astronomy & Astrophysics, Physics, Particles ...   \n",
       "4      Physical Sciences                       [Physics, Multidisciplinary]   \n",
       "...                  ...                                                ...   \n",
       "15959  Physical Sciences                       [Physics, Multidisciplinary]   \n",
       "15960  Physical Sciences                                 [Physics, Nuclear]   \n",
       "15961  Physical Sciences  [Physics, Fluids & Plasmas, Physics, Mathemati...   \n",
       "15962  Physical Sciences                       [Physics, Multidisciplinary]   \n",
       "15963  Physical Sciences  [Astronomy & Astrophysics, Physics, Particles ...   \n",
       "\n",
       "                                                    refs  \\\n",
       "0      WOS:A1976CV18300002|WOS:A1976CL53500002|WOS:A1...   \n",
       "1      WOS:A1976BP76800007|WOS:A1969D527600006|WOS:A1...   \n",
       "2      WOS:A19657000000015|WOS:A19641557C00018|WOS:A1...   \n",
       "3      000353892000006.27|WOS:A1990DQ70600011|WOS:A19...   \n",
       "4      WOS:A1989AP23100004|WOS:A1982PH84100002|000352...   \n",
       "...                                                  ...   \n",
       "15959  WOS:A1986D753900001|WOS:A1997WN07900004|WOS:A1...   \n",
       "15960  WOS:A1996UM20100011|WOS:000176451500064|WOS:00...   \n",
       "15961  WOS:A19657021700008|WOS:A1950UB81700010|WOS:A1...   \n",
       "15962  WOS:000245405900041|WOS:000259014700009|WOS:00...   \n",
       "15963  WOS:000183910800004|WOS:A1997WZ67700003|WOS:A1...   \n",
       "\n",
       "                                                keywords  year  \n",
       "0                 constants|superconvergence|transitions  1991  \n",
       "1      periodic-orbits|quantum spectra|bound spectrum...  1991  \n",
       "2      density-functional theory|ground-state|effecti...  1991  \n",
       "3                                                    NaN  1991  \n",
       "4                                     stabilization|mode  1991  \n",
       "...                                                  ...   ...  \n",
       "15959                         matter-wave interferometry  2015  \n",
       "15960                                    particles|argon  2015  \n",
       "15961  one-component plasma|neutron-stars|thermal-con...  2015  \n",
       "15962                                           fallback  2015  \n",
       "15963                                                NaN  2015  \n",
       "\n",
       "[368914 rows x 14 columns]"
      ]
     },
     "execution_count": 10,
     "metadata": {},
     "output_type": "execute_result"
    }
   ],
   "source": [
    "x"
   ]
  },
  {
   "cell_type": "code",
   "execution_count": 48,
   "metadata": {
    "collapsed": false
   },
   "outputs": [
    {
     "data": {
      "text/plain": [
       "0                   constants|superconvergence|transitions\n",
       "1        periodic-orbits|quantum spectra|bound spectrum...\n",
       "2        density-functional theory|ground-state|effecti...\n",
       "3                                                      NaN\n",
       "4                                       stabilization|mode\n",
       "                               ...                        \n",
       "15959                           matter-wave interferometry\n",
       "15960                                      particles|argon\n",
       "15961    one-component plasma|neutron-stars|thermal-con...\n",
       "15962                                             fallback\n",
       "15963                                                  NaN\n",
       "Name: keywords, dtype: object"
      ]
     },
     "execution_count": 48,
     "metadata": {},
     "output_type": "execute_result"
    }
   ],
   "source": [
    "list_keywords_raw = x['keywords']\n",
    "list_keywords_raw"
   ]
  },
  {
   "cell_type": "code",
   "execution_count": 51,
   "metadata": {
    "collapsed": false
   },
   "outputs": [],
   "source": [
    "list_keywords_raw= list_keywords_raw.dropna()"
   ]
  },
  {
   "cell_type": "code",
   "execution_count": 60,
   "metadata": {
    "collapsed": false
   },
   "outputs": [],
   "source": [
    "list_keywords_raw = [ keyword_ for sublist_keywords_ in list_keywords_raw for keyword_ in sublist_keywords_.split('|')]"
   ]
  },
  {
   "cell_type": "code",
   "execution_count": 61,
   "metadata": {
    "collapsed": true
   },
   "outputs": [],
   "source": [
    "c = Counter(list_keywords_raw)\n",
    "set_keywords = list(c.keys())"
   ]
  },
  {
   "cell_type": "code",
   "execution_count": 59,
   "metadata": {
    "collapsed": false
   },
   "outputs": [
    {
     "data": {
      "text/plain": [
       "['nonthermal radio filaments',\n",
       " '2nd-order qcd corrections',\n",
       " 'sc-43',\n",
       " 'd ions',\n",
       " 'isotropic phase',\n",
       " 'arnold tongues',\n",
       " 'metastable reconstructions',\n",
       " 'nj',\n",
       " 'planck-scale unification',\n",
       " 'moduli problem']"
      ]
     },
     "execution_count": 59,
     "metadata": {},
     "output_type": "execute_result"
    }
   ],
   "source": [
    "set_keywords[:10]"
   ]
  },
  {
   "cell_type": "code",
   "execution_count": 63,
   "metadata": {
    "collapsed": false
   },
   "outputs": [],
   "source": [
    "list_keywords = []\n",
    "list_keywords_counts = []\n",
    "for key_,val_ in c.most_common():\n",
    "    list_keywords += [key_]\n",
    "    list_keywords_counts += [val_]"
   ]
  },
  {
   "cell_type": "code",
   "execution_count": 66,
   "metadata": {
    "collapsed": false,
    "scrolled": true
   },
   "outputs": [
    {
     "data": {
      "text/plain": [
       "[<matplotlib.lines.Line2D at 0x7f565cd71b00>]"
      ]
     },
     "execution_count": 66,
     "metadata": {},
     "output_type": "execute_result"
    },
    {
     "data": {
      "image/png": "[encoded data removed]",
      "text/plain": [
       "<matplotlib.figure.Figure at 0x7f565a3357b8>"
      ]
     },
     "metadata": {},
     "output_type": "display_data"
    }
   ],
   "source": [
    "plt.loglog(list_keywords_counts)\n"
   ]
  },
  {
   "cell_type": "code",
   "execution_count": 68,
   "metadata": {
    "collapsed": false
   },
   "outputs": [
    {
     "data": {
      "text/plain": [
       "2145233"
      ]
     },
     "execution_count": 68,
     "metadata": {},
     "output_type": "execute_result"
    }
   ],
   "source": [
    "sum(list_keywords_counts)"
   ]
  },
  {
   "cell_type": "code",
   "execution_count": 69,
   "metadata": {
    "collapsed": false
   },
   "outputs": [
    {
     "data": {
      "text/plain": [
       "368914"
      ]
     },
     "execution_count": 69,
     "metadata": {},
     "output_type": "execute_result"
    }
   ],
   "source": [
    "len(x)"
   ]
  },
  {
   "cell_type": "code",
   "execution_count": 70,
   "metadata": {
    "collapsed": false
   },
   "outputs": [
    {
     "data": {
      "text/plain": [
       "5.814994822641591"
      ]
     },
     "execution_count": 70,
     "metadata": {},
     "output_type": "execute_result"
    }
   ],
   "source": [
    "2145233/368914"
   ]
  },
  {
   "cell_type": "code",
   "execution_count": null,
   "metadata": {
    "collapsed": true
   },
   "outputs": [],
   "source": []
  },
  {
   "cell_type": "code",
   "execution_count": null,
   "metadata": {
    "collapsed": true
   },
   "outputs": [],
   "source": []
  },
  {
   "cell_type": "markdown",
   "metadata": {
    "collapsed": true
   },
   "source": [
    "### accessing an individual abstract"
   ]
  },
  {
   "cell_type": "code",
   "execution_count": 17,
   "metadata": {
    "collapsed": false
   },
   "outputs": [],
   "source": [
    "x0 = x.iloc[10,:]"
   ]
  },
  {
   "cell_type": "code",
   "execution_count": 18,
   "metadata": {
    "collapsed": false
   },
   "outputs": [
    {
     "name": "stdout",
     "output_type": "stream",
     "text": [
      "uid                                          WOS:A1991FV18400064\n",
      "abstract       In this paper, we study cooperative two-photon...\n",
      "abs_stemmed    in this paper we studi cooper twophoton transi...\n",
      "abs_raw        in this paper ,  we study cooperative two-phot...\n",
      "pubtype                                                  Journal\n",
      "                                     ...                        \n",
      "subheading                                     Physical Sciences\n",
      "categories       [Optics, Physics, Atomic, Molecular & Chemical]\n",
      "refs           WOS:A1974S913500006|WOS:A1954UB47200018|WOS:A1...\n",
      "keywords                                        system|radiation\n",
      "year                                                        1991\n",
      "Name: 10, dtype: object\n"
     ]
    }
   ],
   "source": [
    "print(x0)"
   ]
  },
  {
   "cell_type": "code",
   "execution_count": 19,
   "metadata": {
    "collapsed": false
   },
   "outputs": [
    {
     "data": {
      "text/plain": [
       "'In this paper, we study cooperative two-photon transitions in a system of two (nonoverlapping) atoms for two processes:  two-photon spontaneous emission and two-photon resonance fluorescence.  Expressions are obtained for the energy shifts and decay rates due to the interaction of the atoms with and via the field.  The altered decay rates signal the existence of superradiance and subradiance in the two-atom system.  The energy shifts of the single-excitation states are found to be proportional to R-6 for small atomic separations R, and to R-2 for large separations.'"
      ]
     },
     "execution_count": 19,
     "metadata": {},
     "output_type": "execute_result"
    }
   ],
   "source": [
    "x0['abstract']"
   ]
  },
  {
   "cell_type": "code",
   "execution_count": 20,
   "metadata": {
    "collapsed": false
   },
   "outputs": [
    {
     "data": {
      "text/plain": [
       "'in this paper ,  we study cooperative two-photon transitions in a system of two  ( nonoverlapping )  atoms for two processes :   two-photon spontaneous emission and two-photon resonance fluorescence .   expressions are obtained for the energy shifts and decay rates due to the interaction of the atoms with and via the field .   the altered decay rates signal the existence of superradiance and subradiance in the two-atom system .   the energy shifts of the single-excitation states are found to be proportional to r-6 for small atomic separations r ,  and to r-2 for large separations .'"
      ]
     },
     "execution_count": 20,
     "metadata": {},
     "output_type": "execute_result"
    }
   ],
   "source": [
    "x0['abs_raw']"
   ]
  },
  {
   "cell_type": "code",
   "execution_count": 21,
   "metadata": {
    "collapsed": false
   },
   "outputs": [
    {
     "data": {
      "text/plain": [
       "'in this paper we studi cooper twophoton transit in a system of two nonoverlap atom for two process twophoton spontan emiss and twophoton reson fluoresc express are obtain for the energi shift and decay rate due to the interact of the atom with and via the field the alter decay rate signal the exist of superradi and subradi in the twoatom system the energi shift of the singleexcit state are found to be proport to r6 for small atom separ r and to r2 for larg separ'"
      ]
     },
     "execution_count": 21,
     "metadata": {},
     "output_type": "execute_result"
    }
   ],
   "source": [
    "x0['abs_stemmed']"
   ]
  },
  {
   "cell_type": "code",
   "execution_count": null,
   "metadata": {
    "collapsed": true
   },
   "outputs": [],
   "source": []
  },
  {
   "cell_type": "code",
   "execution_count": null,
   "metadata": {
    "collapsed": true
   },
   "outputs": [],
   "source": []
  }
 ],
 "metadata": {
  "anaconda-cloud": {},
  "kernelspec": {
   "display_name": "Python [conda root]",
   "language": "python",
   "name": "conda-root-py"
  },
  "language_info": {
   "codemirror_mode": {
    "name": "ipython",
    "version": 3
   },
   "file_extension": ".py",
   "mimetype": "text/x-python",
   "name": "python",
   "nbconvert_exporter": "python",
   "pygments_lexer": "ipython3",
   "version": "3.5.2"
  }
 },
 "nbformat": 4,
 "nbformat_minor": 1
}
